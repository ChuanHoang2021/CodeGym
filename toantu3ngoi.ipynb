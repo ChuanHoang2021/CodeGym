{
 "cells": [
  {
   "cell_type": "code",
   "execution_count": null,
   "id": "cb854153",
   "metadata": {},
   "outputs": [],
   "source": [
    "a = int(input('Nhap 1 so di: '))\n",
    "print(f'{a} la so nguyen chia het cho 2') if a % 2 == 0 else print(f'{a} la so nguyen ko chia het cho 2')\n"
   ]
  }
 ],
 "metadata": {
  "kernelspec": {
   "display_name": "Python 3 (ipykernel)",
   "language": "python",
   "name": "python3"
  },
  "language_info": {
   "codemirror_mode": {
    "name": "ipython",
    "version": 3
   },
   "file_extension": ".py",
   "mimetype": "text/x-python",
   "name": "python",
   "nbconvert_exporter": "python",
   "pygments_lexer": "ipython3",
   "version": "3.9.6"
  }
 },
 "nbformat": 4,
 "nbformat_minor": 5
}
